{
 "cells": [
  {
   "cell_type": "markdown",
   "metadata": {},
   "source": [
    "Reads pickle files and converts them into a dataset parseable by the notebook that does semantic entropy analysis."
   ]
  },
  {
   "cell_type": "code",
   "execution_count": 1,
   "metadata": {},
   "outputs": [],
   "source": [
    "import pickle\n",
    "\n",
    "with open(f'/home/sinag/dev/llm-hallucination/.aim/f611a77e7b5b452bb3d75ae0/uncertainty_measures.pkl', 'rb') as file:\n",
    "    results = pickle.load(file)\n",
    "\n",
    "with open(f'/home/sinag/dev/llm-hallucination/.aim/f611a77e7b5b452bb3d75ae0/validation_generations.pkl', 'rb') as file:\n",
    "    vg = pickle.load(file)"
   ]
  },
  {
   "cell_type": "code",
   "execution_count": 2,
   "metadata": {},
   "outputs": [],
   "source": [
    "import numpy as np\n",
    "\n",
    "is_hallucination = np.array(results['validation_is_false']) # One bit per question indicating if we a hallucination.\n",
    "semantic_ids = np.array(results['semantic_ids']) # An array with smenatic ids for each question. Rows (the first index) are questions.\n",
    "test_repsonse_list = [[vg[key]['responses'][generation_index][0] for generation_index in range(len(vg[key]['responses']))] for key in vg.keys()] # A nested list of model responses for ech question. The first index corresponds to questions.\n",
    "generated_token_logits = [[vg[key]['responses'][generation_index][1] for generation_index in range(len(vg[key]['responses']))] for key in vg.keys()] # A nested list of model responses for ech question. The first index corresponds to questions.\n",
    "\n",
    "data_tuple = (is_hallucination, semantic_ids, test_repsonse_list, generated_token_logits)"
   ]
  },
  {
   "cell_type": "code",
   "execution_count": 3,
   "metadata": {},
   "outputs": [],
   "source": [
    "with open('Llama-2-7b-chat--squad--results.pickle', 'wb') as handle:\n",
    "    pickle.dump(data_tuple, handle)"
   ]
  },
  {
   "cell_type": "code",
   "execution_count": null,
   "metadata": {},
   "outputs": [],
   "source": []
  }
 ],
 "metadata": {
  "kernelspec": {
   "display_name": "venv",
   "language": "python",
   "name": "python3"
  },
  "language_info": {
   "codemirror_mode": {
    "name": "ipython",
    "version": 3
   },
   "file_extension": ".py",
   "mimetype": "text/x-python",
   "name": "python",
   "nbconvert_exporter": "python",
   "pygments_lexer": "ipython3",
   "version": "3.11.2"
  }
 },
 "nbformat": 4,
 "nbformat_minor": 2
}
